{
 "cells": [
  {
   "cell_type": "code",
   "execution_count": 236,
   "metadata": {
    "scrolled": false
   },
   "outputs": [],
   "source": [
    "import numpy as np\n",
    "import pandas as pd\n",
    "from sklearn.svm import SVR\n",
    "from sklearn.preprocessing import OneHotEncoder\n",
    "from sklearn.preprocessing import StandardScaler\n",
    "from sklearn.model_selection import train_test_split\n",
    "from sklearn.model_selection import GridSearchCV"
   ]
  },
  {
   "cell_type": "code",
   "execution_count": 237,
   "metadata": {
    "scrolled": true
   },
   "outputs": [
    {
     "name": "stdout",
     "output_type": "stream",
     "text": [
      "(1460, 81)\n",
      "Null Counts:\n",
      "LotFrontage      259\n",
      "Alley           1369\n",
      "MasVnrType         8\n",
      "MasVnrArea         8\n",
      "BsmtQual          37\n",
      "BsmtCond          37\n",
      "BsmtExposure      38\n",
      "BsmtFinType1      37\n",
      "BsmtFinType2      38\n",
      "Electrical         1\n",
      "FireplaceQu      690\n",
      "GarageType        81\n",
      "GarageYrBlt       81\n",
      "GarageFinish      81\n",
      "GarageQual        81\n",
      "GarageCond        81\n",
      "PoolQC          1453\n",
      "Fence           1179\n",
      "MiscFeature     1406\n",
      "dtype: int64\n"
     ]
    }
   ],
   "source": [
    "df_orig = pd.read_csv(\"train.csv\")\n",
    "print(df_orig.shape)\n",
    "print(\"Null Counts:\")\n",
    "print(df_orig.isnull().sum()[df_orig.isnull().sum() > 0])\n"
   ]
  },
  {
   "cell_type": "code",
   "execution_count": 238,
   "metadata": {
    "scrolled": true
   },
   "outputs": [
    {
     "name": "stdout",
     "output_type": "stream",
     "text": [
      "(1460, 75)\n"
     ]
    }
   ],
   "source": [
    "df = df_orig.drop(columns=[\"MiscFeature\", \"Fence\", \"PoolQC\", \"Alley\", \"Id\", \"SalePrice\"])\n",
    "print(df.shape)"
   ]
  },
  {
   "cell_type": "code",
   "execution_count": 239,
   "metadata": {},
   "outputs": [
    {
     "name": "stdout",
     "output_type": "stream",
     "text": [
      "Series([], dtype: int64)\n"
     ]
    }
   ],
   "source": [
    "def fill_nulls(df, mean, mode):\n",
    "    df.fillna(mean, inplace=True)\n",
    "    df.fillna(mode, inplace=True)\n",
    "\n",
    "mean = df.mean()\n",
    "mode = df.mode().iloc[0]\n",
    "fill_nulls(df, mean, mode)\n",
    "print(df.isnull().sum()[df.isnull().sum() > 0])"
   ]
  },
  {
   "cell_type": "code",
   "execution_count": 240,
   "metadata": {},
   "outputs": [
    {
     "name": "stdout",
     "output_type": "stream",
     "text": [
      "(1460, 203)\n"
     ]
    }
   ],
   "source": [
    "def encode_categorical_features(df, enc):\n",
    "    # Flatten enc.categories_ which is a list of np.array\n",
    "    cat_list = np.concatenate(enc.categories_).ravel()\n",
    "    df[cat_list] = pd.DataFrame(enc.transform(df[categorical_features]).toarray(), index=df.index)\n",
    "    df = df.drop(columns=categorical_features)\n",
    "    return df\n",
    "\n",
    "categorical_features = df.select_dtypes(exclude=[np.number]).columns\n",
    "onehot = OneHotEncoder(handle_unknown='ignore')\n",
    "onehot.fit(df[categorical_features])\n",
    "df = encode_categorical_features(df, onehot)\n",
    "print(df.shape)"
   ]
  },
  {
   "cell_type": "code",
   "execution_count": 241,
   "metadata": {},
   "outputs": [],
   "source": [
    "def standardize_numerical_features(df):\n",
    "    numerical_features = df.select_dtypes(include=[np.number]).columns\n",
    "    scaler = StandardScaler()\n",
    "    df[numerical_features] = scaler.fit_transform(df[numerical_features])\n",
    "    return df\n",
    "\n",
    "df = standardize_numerical_features(df)"
   ]
  },
  {
   "cell_type": "code",
   "execution_count": 242,
   "metadata": {},
   "outputs": [],
   "source": [
    "scaler_y = StandardScaler()\n",
    "y = scaler_y.fit_transform(df_orig.SalePrice.to_numpy().reshape(-1, 1))"
   ]
  },
  {
   "cell_type": "code",
   "execution_count": 243,
   "metadata": {},
   "outputs": [
    {
     "name": "stdout",
     "output_type": "stream",
     "text": [
      "(1095, 203) (1095, 1)\n",
      "(365, 203) (365, 1)\n"
     ]
    }
   ],
   "source": [
    "X = df\n",
    "X_train, X_test, y_train, y_test = train_test_split(X, y, test_size=0.25, random_state=1)\n",
    "print(X_train.shape, y_train.shape)\n",
    "print(X_test.shape, y_test.shape)"
   ]
  },
  {
   "cell_type": "code",
   "execution_count": 258,
   "metadata": {},
   "outputs": [
    {
     "name": "stderr",
     "output_type": "stream",
     "text": [
      "d:\\alex\\code\\machine-learning\\env36\\lib\\site-packages\\sklearn\\utils\\validation.py:724: DataConversionWarning: A column-vector y was passed when a 1d array was expected. Please change the shape of y to (n_samples, ), for example using ravel().\n",
      "  y = column_or_1d(y, warn=True)\n"
     ]
    },
    {
     "name": "stdout",
     "output_type": "stream",
     "text": [
      "Train score:  0.9563921463825464\n",
      "Test score:  0.8890139313715353\n",
      "{'C': 7, 'gamma': 0.0009}\n"
     ]
    }
   ],
   "source": [
    "#regr = SVR(gamma=0.0001, C=10.0, epsilon=0.001, kernel=\"rbf\")\n",
    "regr = GridSearchCV(\n",
    "        estimator=SVR(kernel='rbf', epsilon=0.01),\n",
    "        param_grid={\n",
    "            'C': [7, 8, 9, 10, 11],\n",
    "            #'epsilon': [0.001, 0.005, 0.01, 0.05, 0.1],\n",
    "            'gamma': [0.00009, 0.0003, 0.0009, 0.001, 0.003]\n",
    "        },\n",
    "        cv=5,\n",
    "        n_jobs=-1)\n",
    "regr.fit(X_train, y_train)\n",
    "print(\"Train score: \", regr.score(X_train, y_train))\n",
    "print(\"Test score: \", regr.score(X_test, y_test))\n",
    "print(regr.best_params_)"
   ]
  },
  {
   "cell_type": "code",
   "execution_count": 259,
   "metadata": {},
   "outputs": [],
   "source": [
    "df_test_orig = pd.read_csv(\"test.csv\")\n",
    "df_test = df_test_orig.drop(columns=[\"MiscFeature\", \"Fence\", \"PoolQC\", \"Alley\", \"Id\"])\n",
    "fill_nulls(df_test, mean, mode)\n",
    "df_test = encode_categorical_features(df_test, onehot)\n",
    "df_test = standardize_numerical_features(df_test)\n",
    "predictions = regr.predict(df_test)\n",
    "predictions = scaler_y.inverse_transform(predictions)\n",
    "df_submit = pd.DataFrame({'Id': df_test_orig.Id, 'SalePrice': predictions})\n",
    "df_submit.to_csv('submission.csv', index=False)"
   ]
  },
  {
   "cell_type": "code",
   "execution_count": null,
   "metadata": {},
   "outputs": [],
   "source": []
  }
 ],
 "metadata": {
  "kernelspec": {
   "display_name": "Python 3",
   "language": "python",
   "name": "python3"
  },
  "language_info": {
   "codemirror_mode": {
    "name": "ipython",
    "version": 3
   },
   "file_extension": ".py",
   "mimetype": "text/x-python",
   "name": "python",
   "nbconvert_exporter": "python",
   "pygments_lexer": "ipython3",
   "version": "3.6.8"
  }
 },
 "nbformat": 4,
 "nbformat_minor": 2
}
