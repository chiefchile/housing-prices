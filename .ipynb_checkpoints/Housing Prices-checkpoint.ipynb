{
 "cells": [
  {
   "cell_type": "code",
   "execution_count": 125,
   "metadata": {
    "scrolled": false
   },
   "outputs": [],
   "source": [
    "import numpy as np\n",
    "import pandas as pd\n",
    "from sklearn.svm import SVR\n",
    "from sklearn.preprocessing import OneHotEncoder\n",
    "from sklearn.preprocessing import StandardScaler\n",
    "from sklearn.model_selection import train_test_split"
   ]
  },
  {
   "cell_type": "code",
   "execution_count": 126,
   "metadata": {
    "scrolled": true
   },
   "outputs": [
    {
     "name": "stdout",
     "output_type": "stream",
     "text": [
      "(1460, 81)\n",
      "Null Counts:\n",
      "LotFrontage      259\n",
      "Alley           1369\n",
      "MasVnrType         8\n",
      "MasVnrArea         8\n",
      "BsmtQual          37\n",
      "BsmtCond          37\n",
      "BsmtExposure      38\n",
      "BsmtFinType1      37\n",
      "BsmtFinType2      38\n",
      "Electrical         1\n",
      "FireplaceQu      690\n",
      "GarageType        81\n",
      "GarageYrBlt       81\n",
      "GarageFinish      81\n",
      "GarageQual        81\n",
      "GarageCond        81\n",
      "PoolQC          1453\n",
      "Fence           1179\n",
      "MiscFeature     1406\n",
      "dtype: int64\n"
     ]
    }
   ],
   "source": [
    "df_orig = pd.read_csv(\"train.csv\")\n",
    "print(df_orig.shape)\n",
    "print(\"Null Counts:\")\n",
    "print(df_orig.isnull().sum()[df_orig.isnull().sum() > 0])\n"
   ]
  },
  {
   "cell_type": "code",
   "execution_count": 127,
   "metadata": {
    "scrolled": true
   },
   "outputs": [
    {
     "name": "stdout",
     "output_type": "stream",
     "text": [
      "(1460, 76)\n"
     ]
    }
   ],
   "source": [
    "df = df_orig.drop(columns=[\"MiscFeature\", \"Fence\", \"PoolQC\", \"Alley\", \"Id\",])\n",
    "print(df.shape)"
   ]
  },
  {
   "cell_type": "code",
   "execution_count": 128,
   "metadata": {},
   "outputs": [
    {
     "name": "stdout",
     "output_type": "stream",
     "text": [
      "Series([], dtype: int64)\n"
     ]
    }
   ],
   "source": [
    "def fill_nulls(df, mean, mode):\n",
    "    df.fillna(mean, inplace=True)\n",
    "    df.fillna(mode, inplace=True)\n",
    "\n",
    "mean = df.mean()\n",
    "mode = df.mode().iloc[0]\n",
    "fill_nulls(df, mean, mode)\n",
    "print(df.isnull().sum()[df.isnull().sum() > 0])"
   ]
  },
  {
   "cell_type": "code",
   "execution_count": 129,
   "metadata": {},
   "outputs": [
    {
     "name": "stdout",
     "output_type": "stream",
     "text": [
      "(1460, 204)\n"
     ]
    }
   ],
   "source": [
    "def encode_categorical_features(df, enc):\n",
    "    # Flatten enc.categories_ which is a list of np.array\n",
    "    cat_list = np.concatenate(enc.categories_).ravel()\n",
    "    df[cat_list] = pd.DataFrame(enc.transform(df[categorical_features]).toarray(), index=df.index)\n",
    "    df = df.drop(columns=categorical_features)\n",
    "    return df\n",
    "\n",
    "categorical_features = df.select_dtypes(exclude=[np.number]).columns\n",
    "onehot = OneHotEncoder(handle_unknown='ignore')\n",
    "onehot.fit(df[categorical_features])\n",
    "df = encode_categorical_features(df, onehot)\n",
    "print(df.shape)"
   ]
  },
  {
   "cell_type": "code",
   "execution_count": 130,
   "metadata": {},
   "outputs": [],
   "source": [
    "def standardize_numerical_features(df):\n",
    "    numerical_features = df.select_dtypes(include=[np.number]).columns\n",
    "    scaler = StandardScaler()\n",
    "    df[numerical_features] = scaler.fit_transform(df[numerical_features])\n",
    "    return df\n",
    "\n",
    "df = standardize_numerical_features(df)"
   ]
  },
  {
   "cell_type": "code",
   "execution_count": 131,
   "metadata": {},
   "outputs": [
    {
     "name": "stdout",
     "output_type": "stream",
     "text": [
      "(1095, 203) (1095,)\n",
      "(365, 203) (365,)\n"
     ]
    }
   ],
   "source": [
    "y = df.SalePrice\n",
    "X = df.drop(columns=[\"SalePrice\"])\n",
    "X_train, X_test, y_train, y_test = train_test_split(X, y, test_size=0.25, random_state=1)\n",
    "print(X_train.shape, y_train.shape)\n",
    "print(X_test.shape, y_test.shape)"
   ]
  },
  {
   "cell_type": "code",
   "execution_count": 132,
   "metadata": {},
   "outputs": [
    {
     "name": "stdout",
     "output_type": "stream",
     "text": [
      "Train score:  0.877479044783482\n",
      "Test score:  0.868113133100851\n"
     ]
    }
   ],
   "source": [
    "regr = SVR(gamma=0.0001, C=10.0, epsilon=0.001, kernel=\"rbf\")\n",
    "#regr = SVR(gamma=\"scale\", C=1.0, epsilon=0.2, kernel=\"rbf\")\n",
    "regr.fit(X_train, y_train)\n",
    "print(\"Train score: \", regr.score(X_train, y_train))\n",
    "print(\"Test score: \", regr.score(X_test, y_test))"
   ]
  },
  {
   "cell_type": "code",
   "execution_count": 133,
   "metadata": {},
   "outputs": [
    {
     "name": "stdout",
     "output_type": "stream",
     "text": [
      "[-0.65140524 -0.14765323  0.09547955 ...  0.06193185 -0.79110928\n",
      "  0.64962515]\n"
     ]
    }
   ],
   "source": [
    "df_test_orig = pd.read_csv(\"test.csv\")\n",
    "df_test = df_test_orig.drop(columns=[\"MiscFeature\", \"Fence\", \"PoolQC\", \"Alley\", \"Id\"])\n",
    "fill_nulls(df_test, mean, mode)\n",
    "df_test = encode_categorical_features(df_test, onehot)\n",
    "df_test = standardize_numerical_features(df_test)\n",
    "predictions = regr.predict(df_test)\n",
    "print(predictions)\n",
    "#df_submit = pd.DataFrame({'Id': df_test_orig.Id, 'SalePrice': predictions})\n",
    "#df_submit.to_csv('submission.csv', index=False)"
   ]
  },
  {
   "cell_type": "code",
   "execution_count": null,
   "metadata": {},
   "outputs": [],
   "source": []
  }
 ],
 "metadata": {
  "kernelspec": {
   "display_name": "Python 3",
   "language": "python",
   "name": "python3"
  },
  "language_info": {
   "codemirror_mode": {
    "name": "ipython",
    "version": 3
   },
   "file_extension": ".py",
   "mimetype": "text/x-python",
   "name": "python",
   "nbconvert_exporter": "python",
   "pygments_lexer": "ipython3",
   "version": "3.6.8"
  }
 },
 "nbformat": 4,
 "nbformat_minor": 2
}
