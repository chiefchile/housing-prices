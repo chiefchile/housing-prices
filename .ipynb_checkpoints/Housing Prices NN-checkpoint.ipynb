{
 "cells": [
  {
   "cell_type": "code",
   "execution_count": 104,
   "metadata": {},
   "outputs": [],
   "source": [
    "# Seed value\n",
    "# Apparently you may use different seed values at each stage\n",
    "seed_value= 1\n",
    "\n",
    "# 1. Set the `PYTHONHASHSEED` environment variable at a fixed value\n",
    "import os\n",
    "os.environ['PYTHONHASHSEED']=str(seed_value)\n",
    "\n",
    "# 2. Set the `python` built-in pseudo-random generator at a fixed value\n",
    "import random\n",
    "random.seed(seed_value)\n",
    "\n",
    "# 3. Set the `numpy` pseudo-random generator at a fixed value\n",
    "import numpy as np\n",
    "np.random.seed(seed_value)\n",
    "\n",
    "# 4. Set the `tensorflow` pseudo-random generator at a fixed value\n",
    "import tensorflow as tf\n",
    "tf.set_random_seed(seed_value)\n",
    "\n",
    "# 5. Configure a new global `tensorflow` session\n",
    "from keras import backend as K\n",
    "session_conf = tf.ConfigProto(intra_op_parallelism_threads=1, inter_op_parallelism_threads=1)\n",
    "sess = tf.Session(graph=tf.get_default_graph(), config=session_conf)\n",
    "K.set_session(sess)"
   ]
  },
  {
   "cell_type": "code",
   "execution_count": 105,
   "metadata": {},
   "outputs": [],
   "source": [
    "import pandas as pd\n",
    "from sklearn.preprocessing import OneHotEncoder\n",
    "from sklearn.preprocessing import StandardScaler\n",
    "from sklearn.model_selection import train_test_split\n",
    "from keras.models import Sequential\n",
    "from keras.layers import Dense, Dropout\n",
    "from keras.regularizers import l2\n",
    "from keras.optimizers import Adam\n",
    "from keras.callbacks import EarlyStopping"
   ]
  },
  {
   "cell_type": "code",
   "execution_count": 106,
   "metadata": {},
   "outputs": [
    {
     "name": "stdout",
     "output_type": "stream",
     "text": [
      "(1460, 81)\n",
      "Null Counts:\n",
      "LotFrontage      259\n",
      "Alley           1369\n",
      "MasVnrType         8\n",
      "MasVnrArea         8\n",
      "BsmtQual          37\n",
      "BsmtCond          37\n",
      "BsmtExposure      38\n",
      "BsmtFinType1      37\n",
      "BsmtFinType2      38\n",
      "Electrical         1\n",
      "FireplaceQu      690\n",
      "GarageType        81\n",
      "GarageYrBlt       81\n",
      "GarageFinish      81\n",
      "GarageQual        81\n",
      "GarageCond        81\n",
      "PoolQC          1453\n",
      "Fence           1179\n",
      "MiscFeature     1406\n",
      "dtype: int64\n"
     ]
    }
   ],
   "source": [
    "df_orig = pd.read_csv(\"train.csv\")\n",
    "print(df_orig.shape)\n",
    "print(\"Null Counts:\")\n",
    "print(df_orig.isnull().sum()[df_orig.isnull().sum() > 0])"
   ]
  },
  {
   "cell_type": "code",
   "execution_count": 107,
   "metadata": {},
   "outputs": [
    {
     "name": "stdout",
     "output_type": "stream",
     "text": [
      "(1460, 75)\n"
     ]
    }
   ],
   "source": [
    "df = df_orig.drop(columns=[\"MiscFeature\", \"Fence\", \"PoolQC\", \"Alley\", \"Id\", \"SalePrice\"])\n",
    "print(df.shape)"
   ]
  },
  {
   "cell_type": "code",
   "execution_count": 108,
   "metadata": {},
   "outputs": [
    {
     "name": "stdout",
     "output_type": "stream",
     "text": [
      "Series([], dtype: int64)\n"
     ]
    }
   ],
   "source": [
    "def fill_nulls(df, mean, mode):\n",
    "    df.fillna(mean, inplace=True)\n",
    "    df.fillna(mode, inplace=True)\n",
    "\n",
    "mean = df.mean()\n",
    "mode = df.mode().iloc[0]\n",
    "fill_nulls(df, mean, mode)\n",
    "print(df.isnull().sum()[df.isnull().sum() > 0])"
   ]
  },
  {
   "cell_type": "code",
   "execution_count": 109,
   "metadata": {},
   "outputs": [
    {
     "name": "stdout",
     "output_type": "stream",
     "text": [
      "(1460, 203)\n"
     ]
    }
   ],
   "source": [
    "def encode_categorical_features(df, enc):\n",
    "    # Flatten enc.categories_ which is a list of np.array\n",
    "    cat_list = np.concatenate(enc.categories_).ravel()\n",
    "    df[cat_list] = pd.DataFrame(enc.transform(df[categorical_features]).toarray(), index=df.index)\n",
    "    df = df.drop(columns=categorical_features)\n",
    "    return df\n",
    "\n",
    "categorical_features = df.select_dtypes(exclude=[np.number]).columns\n",
    "onehot = OneHotEncoder(handle_unknown='ignore')\n",
    "onehot.fit(df[categorical_features])\n",
    "df = encode_categorical_features(df, onehot)\n",
    "print(df.shape)"
   ]
  },
  {
   "cell_type": "code",
   "execution_count": 110,
   "metadata": {},
   "outputs": [],
   "source": [
    "def standardize_numerical_features(df):\n",
    "    numerical_features = df.select_dtypes(include=[np.number]).columns\n",
    "    scaler = StandardScaler()\n",
    "    df[numerical_features] = scaler.fit_transform(df[numerical_features])\n",
    "    return df\n",
    "\n",
    "df = standardize_numerical_features(df)"
   ]
  },
  {
   "cell_type": "code",
   "execution_count": 111,
   "metadata": {},
   "outputs": [
    {
     "name": "stdout",
     "output_type": "stream",
     "text": [
      "(1168, 203) (1168,)\n",
      "(292, 203) (292,)\n"
     ]
    }
   ],
   "source": [
    "X = df\n",
    "y = df_orig.SalePrice\n",
    "X_train, X_test, y_train, y_test = train_test_split(X, y, test_size=0.2, random_state=42)\n",
    "print(X_train.shape, y_train.shape)\n",
    "print(X_test.shape, y_test.shape)"
   ]
  },
  {
   "cell_type": "code",
   "execution_count": 112,
   "metadata": {
    "scrolled": true
   },
   "outputs": [
    {
     "name": "stdout",
     "output_type": "stream",
     "text": [
      "Epoch 1/100\n",
      "1168/1168 [==============================] - 7s 6ms/step - loss: 31414157887.1233 - mean_squared_logarithmic_error: 20.7940\n",
      "Epoch 2/100\n",
      "1168/1168 [==============================] - 2s 2ms/step - loss: 9883445742.4658 - mean_squared_logarithmic_error: 2.3590\n",
      "Epoch 3/100\n",
      "1168/1168 [==============================] - 2s 2ms/step - loss: 5813057336.1096 - mean_squared_logarithmic_error: 0.8368\n",
      "Epoch 4/100\n",
      "1168/1168 [==============================] - 2s 2ms/step - loss: 4351229653.9178 - mean_squared_logarithmic_error: 0.2496\n",
      "Epoch 5/100\n",
      "1168/1168 [==============================] - 2s 2ms/step - loss: 3458707434.9589 - mean_squared_logarithmic_error: 0.1193\n",
      "Epoch 6/100\n",
      "1168/1168 [==============================] - 2s 2ms/step - loss: 2888575358.2466 - mean_squared_logarithmic_error: 0.0730A: 1s - loss: 2429803168.0000 - mea\n",
      "Epoch 7/100\n",
      "1168/1168 [==============================] - 2s 2ms/step - loss: 2482884073.2055 - mean_squared_logarithmic_error: 0.0591\n",
      "Epoch 8/100\n",
      "1168/1168 [==============================] - 2s 2ms/step - loss: 2186990406.1370 - mean_squared_logarithmic_error: 0.0464\n",
      "Epoch 9/100\n",
      "1168/1168 [==============================] - 2s 2ms/step - loss: 1967797966.9041 - mean_squared_logarithmic_error: 0.0392\n",
      "Epoch 10/100\n",
      "1168/1168 [==============================] - 2s 2ms/step - loss: 1794421532.0548 - mean_squared_logarithmic_error: 0.0328\n",
      "Epoch 11/100\n",
      "1168/1168 [==============================] - 2s 2ms/step - loss: 1638198380.7123 - mean_squared_logarithmic_error: 0.0283A: 1s - loss: 1544234562.2069 - mean_squared_logarithmic_error: 0.0 - ETA: 1s - loss: 1550065269.6216 - mean_squared_logarithmic_error: 0. - ETA: 0s - loss: 1584022746.6667 - mean_squared_logarithmic_error:  - ETA: 0s - loss: 1623491495.3846 - mean_squared_logarithmic_error: 0\n",
      "Epoch 12/100\n",
      "1168/1168 [==============================] - 2s 1ms/step - loss: 1504434110.2466 - mean_squared_logarithmic_error: 0.0258\n",
      "Epoch 13/100\n",
      "1168/1168 [==============================] - 2s 2ms/step - loss: 1410762901.9178 - mean_squared_logarithmic_error: 0.0232A: 1s - loss: 1394047592.0000 - mean_squared_l\n",
      "Epoch 14/100\n",
      "1168/1168 [==============================] - 2s 2ms/step - loss: 1331191882.5205 - mean_squared_logarithmic_error: 0.0215\n",
      "Epoch 15/100\n",
      "1168/1168 [==============================] - 2s 2ms/step - loss: 1254304084.1644 - mean_squared_logarithmic_error: 0.0194\n",
      "Epoch 16/100\n",
      "1168/1168 [==============================] - 2s 2ms/step - loss: 1174910753.3151 - mean_squared_logarithmic_error: 0.0173\n",
      "Epoch 17/100\n",
      "1168/1168 [==============================] - 2s 2ms/step - loss: 1153498886.1370 - mean_squared_logarithmic_error: 0.0168\n",
      "Epoch 18/100\n",
      "1168/1168 [==============================] - 2s 2ms/step - loss: 1095849728.0000 - mean_squared_logarithmic_error: 0.0161\n",
      "Epoch 19/100\n",
      "1168/1168 [==============================] - 2s 2ms/step - loss: 1088670336.0000 - mean_squared_logarithmic_error: 0.0153\n",
      "Epoch 20/100\n",
      "1168/1168 [==============================] - 2s 2ms/step - loss: 1046662467.5068 - mean_squared_logarithmic_error: 0.0162 0s - loss: 991729817.3023 - mean_squared_logarith - ETA: 0s - loss: 1038810073.2394 - mean_squared_logarithmic_error: 0.016\n",
      "Epoch 21/100\n",
      "1168/1168 [==============================] - 2s 2ms/step - loss: 989953205.4795 - mean_squared_logarithmic_error: 0.0134\n",
      "Epoch 22/100\n",
      "1168/1168 [==============================] - 2s 2ms/step - loss: 981452456.3288 - mean_squared_logarithmic_error: 0.0132TA: 1s - loss: 1093871776.0\n",
      "Epoch 23/100\n",
      "1168/1168 [==============================] - 2s 2ms/step - loss: 981889533.3699 - mean_squared_logarithmic_error: 0.0170: 0s - loss: 975824196.7407 - mean_squared_logarithmic_error: 0.01 - ETA: 0s - loss: 977265745.1429 - mean_squared_logarit\n",
      "Epoch 24/100\n",
      "1168/1168 [==============================] - 2s 2ms/step - loss: 927651116.7123 - mean_squared_logarithmic_error: 0.0123: 1s - loss: 927961147.8710 - mean_squared_logarit - ETA: 0s - loss: 905599710.3158 - mean_squared_logarithmic_e\n",
      "Epoch 25/100\n",
      "1168/1168 [==============================] - 2s 2ms/step - loss: 957453344.4384 - mean_squared_logarithmic_error: 0.0129\n",
      "Epoch 26/100\n",
      "1168/1168 [==============================] - 2s 2ms/step - loss: 936737383.4521 - mean_squared_logarithmic_error: 0.0127\n",
      "Epoch 27/100\n",
      "1168/1168 [==============================] - 2s 2ms/step - loss: 929610006.7945 - mean_squared_logarithmic_error: 0.0127\n",
      "Epoch 28/100\n",
      "1168/1168 [==============================] - 2s 2ms/step - loss: 886870913.7534 - mean_squared_logarithmic_error: 0.0115\n",
      "Epoch 29/100\n",
      "1168/1168 [==============================] - 2s 2ms/step - loss: 904892077.5890 - mean_squared_logarithmic_error: 0.0121: 0s - loss: 900360252.2899 - mean_squared_logarithmic_error: 0.\n",
      "Epoch 30/100\n",
      "1168/1168 [==============================] - 2s 2ms/step - loss: 927813966.0274 - mean_squared_logarithmic_error: 0.0131: 1s \n",
      "Epoch 31/100\n",
      "1168/1168 [==============================] - 2s 2ms/step - loss: 937584487.4521 - mean_squared_logarithmic_error: 0.0127: 1s - loss: 897818200.7742 - mean_squared_logarithmic_error: 0.01 - ETA: 1s - loss: 887981067.6364 - \n",
      "Epoch 32/100\n",
      "1168/1168 [==============================] - 2s 2ms/step - loss: 889541680.2192 - mean_squared_logarithmic_error: 0.0120TA: 1s - loss: 926575456. - ETA: 0s - loss: 858574064.8727 - mean_squared_l\n",
      "Epoch 33/100\n",
      "1168/1168 [==============================] - 3s 2ms/step - loss: 886234723.9452 - mean_squared_logarithmic_error: 0.0125: 2s - l\n",
      "Epoch 34/100\n",
      "1168/1168 [==============================] - 2s 2ms/step - loss: 880147101.8082 - mean_squared_logarithmic_error: 0.0116\n",
      "Epoch 35/100\n",
      "1168/1168 [==============================] - 2s 2ms/step - loss: 883067840.8767 - mean_squared_logarithmic_error: 0.0120\n",
      "Epoch 36/100\n",
      "1168/1168 [==============================] - 2s 1ms/step - loss: 895151514.3014 - mean_squared_logarithmic_error: 0.0127: 0s - loss: 896334150.7879 - mean_squared_logarithmic_error: \n",
      "Epoch 37/100\n",
      "1168/1168 [==============================] - 2s 1ms/step - loss: 887035210.5205 - mean_squared_logarithmic_error: 0.0129: 1s - loss: 848884468.5714 - mean_squared_logarithmic_error: 0. - ETA: 1s - loss: 852030030.0000 - mean_squared_logarithmic_error: 0.01 - ETA: 1s - loss: 837942093.1765 - mean_squar\n",
      "Epoch 38/100\n",
      "1168/1168 [==============================] - 1s 1ms/step - loss: 879888457.6438 - mean_squared_logarithmic_error: 0.0123\n",
      "Epoch 39/100\n",
      "1168/1168 [==============================] - 2s 1ms/step - loss: 893413997.5890 - mean_squared_logarithmic_error: 0.0142\n",
      "Epoch 40/100\n",
      "1168/1168 [==============================] - 1s 1ms/step - loss: 861821504.0000 - mean_squared_logarithmic_error: 0.0117\n",
      "Epoch 41/100\n",
      "1168/1168 [==============================] - 1s 1ms/step - loss: 884091102.6849 - mean_squared_logarithmic_error: 0.0119\n",
      "Epoch 42/100\n",
      "1168/1168 [==============================] - 1s 1ms/step - loss: 879559777.3151 - mean_squared_logarithmic_error: 0.0118\n",
      "Epoch 43/100\n",
      "1168/1168 [==============================] - 2s 1ms/step - loss: 867310908.4932 - mean_squared_logarithmic_error: 0.0117\n",
      "Epoch 44/100\n",
      "1168/1168 [==============================] - 2s 2ms/step - loss: 872464523.3973 - mean_squared_logarithmic_error: 0.0120: 0s - loss: 816638360.8889 - \n",
      "Epoch 45/100\n",
      "1168/1168 [==============================] - 1s 1ms/step - loss: 872718797.1507 - mean_squared_logarithmic_error: 0.0123\n",
      "Epoch 46/100\n",
      "1168/1168 [==============================] - 1s 1ms/step - loss: 850503548.4932 - mean_squared_logarithmic_error: 0.0114\n",
      "Epoch 47/100\n",
      "1168/1168 [==============================] - 1s 1ms/step - loss: 830875779.5068 - mean_squared_logarithmic_error: 0.0111\n",
      "Epoch 48/100\n",
      "1168/1168 [==============================] - 1s 1ms/step - loss: 844138572.2740 - mean_squared_logarithmic_error: 0.0116\n",
      "Epoch 49/100\n",
      "1168/1168 [==============================] - 1s 1ms/step - loss: 849373420.7123 - mean_squared_logarithmic_error: 0.0112\n",
      "Epoch 50/100\n",
      "1168/1168 [==============================] - 1s 1ms/step - loss: 857765694.2466 - mean_squared_logarithmic_error: 0.0121\n",
      "Epoch 51/100\n",
      "1168/1168 [==============================] - 1s 1ms/step - loss: 862710113.3151 - mean_squared_logarithmic_error: 0.0143\n",
      "Epoch 52/100\n"
     ]
    },
    {
     "name": "stdout",
     "output_type": "stream",
     "text": [
      "1168/1168 [==============================] - 1s 1ms/step - loss: 850632903.0137 - mean_squared_logarithmic_error: 0.0117\n",
      "Epoch 53/100\n",
      "1168/1168 [==============================] - 1s 1ms/step - loss: 866719310.4658 - mean_squared_logarithmic_error: 0.0117\n",
      "Epoch 54/100\n",
      "1168/1168 [==============================] - 1s 1ms/step - loss: 858732356.3836 - mean_squared_logarithmic_error: 0.0122\n",
      "Epoch 55/100\n",
      "1168/1168 [==============================] - 1s 1ms/step - loss: 850570194.4110 - mean_squared_logarithmic_error: 0.0113\n",
      "Epoch 56/100\n",
      "1168/1168 [==============================] - 1s 1ms/step - loss: 848702200.9863 - mean_squared_logarithmic_error: 0.0114: 2s - loss: 799976550.400\n",
      "Epoch 57/100\n",
      "1168/1168 [==============================] - 1s 1ms/step - loss: 846649622.7945 - mean_squared_logarithmic_error: 0.0111\n",
      "Epoch 58/100\n",
      "1168/1168 [==============================] - 1s 1ms/step - loss: 837341387.3973 - mean_squared_logarithmic_error: 0.0114\n",
      "Epoch 59/100\n",
      "1168/1168 [==============================] - 1s 1ms/step - loss: 847955233.3151 - mean_squared_logarithmic_error: 0.0125\n",
      "Epoch 60/100\n",
      "1168/1168 [==============================] - 1s 1ms/step - loss: 834068211.7260 - mean_squared_logarithmic_error: 0.0115\n",
      "Epoch 61/100\n",
      "1168/1168 [==============================] - 2s 1ms/step - loss: 832680098.6301 - mean_squared_logarithmic_error: 0.0117\n",
      "Epoch 62/100\n",
      "1168/1168 [==============================] - 1s 1ms/step - loss: 848552798.6849 - mean_squared_logarithmic_error: 0.0118\n",
      "Epoch 63/100\n",
      "1168/1168 [==============================] - 1s 1ms/step - loss: 856610684.9315 - mean_squared_logarithmic_error: 0.0119\n",
      "Epoch 64/100\n",
      "1168/1168 [==============================] - 1s 1ms/step - loss: 815183292.9315 - mean_squared_logarithmic_error: 0.0107\n",
      "Epoch 65/100\n",
      "1168/1168 [==============================] - 1s 1ms/step - loss: 843232514.1918 - mean_squared_logarithmic_error: 0.0118\n",
      "Epoch 66/100\n",
      "1168/1168 [==============================] - 1s 1ms/step - loss: 829825818.3014 - mean_squared_logarithmic_error: 0.0110\n",
      "Epoch 67/100\n",
      "1168/1168 [==============================] - 1s 1ms/step - loss: 829272485.2603 - mean_squared_logarithmic_error: 0.0113\n",
      "Epoch 68/100\n",
      "1168/1168 [==============================] - 1s 1ms/step - loss: 848759691.8356 - mean_squared_logarithmic_error: 0.0119\n",
      "Epoch 69/100\n",
      "1168/1168 [==============================] - 1s 1ms/step - loss: 829599891.2877 - mean_squared_logarithmic_error: 0.0119\n",
      "Epoch 70/100\n",
      "1168/1168 [==============================] - 1s 1ms/step - loss: 836537819.6164 - mean_squared_logarithmic_error: 0.0112\n",
      "Epoch 71/100\n",
      "1168/1168 [==============================] - 1s 1ms/step - loss: 847902460.0548 - mean_squared_logarithmic_error: 0.0131\n",
      "Epoch 72/100\n",
      "1168/1168 [==============================] - 1s 1ms/step - loss: 839003911.0137 - mean_squared_logarithmic_error: 0.0113\n",
      "Epoch 73/100\n",
      "1168/1168 [==============================] - 1s 1ms/step - loss: 830568535.6712 - mean_squared_logarithmic_error: 0.0114: 1s - loss: 692451335\n",
      "Epoch 74/100\n",
      "1168/1168 [==============================] - 1s 1ms/step - loss: 844681306.7397 - mean_squared_logarithmic_error: 0.0115\n",
      "Epoch 75/100\n",
      "1168/1168 [==============================] - 1s 1ms/step - loss: 827119399.8904 - mean_squared_logarithmic_error: 0.0112\n",
      "Epoch 76/100\n",
      "1168/1168 [==============================] - 1s 1ms/step - loss: 843030034.8493 - mean_squared_logarithmic_error: 0.0117\n",
      "Epoch 77/100\n",
      "1168/1168 [==============================] - 1s 1ms/step - loss: 813837476.3836 - mean_squared_logarithmic_error: 0.0111\n",
      "Epoch 78/100\n",
      "1168/1168 [==============================] - 1s 1ms/step - loss: 840994714.3014 - mean_squared_logarithmic_error: 0.0120\n",
      "Epoch 79/100\n",
      "1168/1168 [==============================] - 1s 1ms/step - loss: 823700513.7534 - mean_squared_logarithmic_error: 0.0126\n",
      "Epoch 80/100\n",
      "1168/1168 [==============================] - 1s 1ms/step - loss: 825703399.8904 - mean_squared_logarithmic_error: 0.0116\n",
      "Epoch 81/100\n",
      "1168/1168 [==============================] - 1s 1ms/step - loss: 830147605.4795 - mean_squared_logarithmic_error: 0.0117\n",
      "Epoch 82/100\n",
      "1168/1168 [==============================] - 1s 1ms/step - loss: 839830543.3425 - mean_squared_logarithmic_error: 0.0117\n",
      "Epoch 83/100\n",
      "1168/1168 [==============================] - 1s 1ms/step - loss: 826864437.4795 - mean_squared_logarithmic_error: 0.0123\n",
      "Epoch 84/100\n",
      "1168/1168 [==============================] - 1s 1ms/step - loss: 835761414.1370 - mean_squared_logarithmic_error: 0.0115\n",
      "Epoch 85/100\n",
      "1168/1168 [==============================] - 1s 1ms/step - loss: 849076130.1918 - mean_squared_logarithmic_error: 0.0136\n",
      "Epoch 86/100\n",
      "1168/1168 [==============================] - 1s 1ms/step - loss: 810318029.5890 - mean_squared_logarithmic_error: 0.0111\n",
      "Epoch 87/100\n",
      "1168/1168 [==============================] - 1s 1ms/step - loss: 850870626.1918 - mean_squared_logarithmic_error: 0.0124\n",
      "Epoch 88/100\n",
      "1168/1168 [==============================] - 2s 2ms/step - loss: 848465558.7945 - mean_squared_logarithmic_error: 0.0124: 0s - loss: 848773438.0000 - mean_squared_logarithmic_error\n",
      "Epoch 89/100\n",
      "1168/1168 [==============================] - 1s 1ms/step - loss: 845342785.3151 - mean_squared_logarithmic_error: 0.0132\n",
      "Epoch 90/100\n",
      "1168/1168 [==============================] - 1s 1ms/step - loss: 813086381.5890 - mean_squared_logarithmic_error: 0.0111\n",
      "Epoch 91/100\n",
      "1168/1168 [==============================] - 1s 1ms/step - loss: 816130449.5342 - mean_squared_logarithmic_error: 0.0108\n",
      "Epoch 92/100\n",
      "1168/1168 [==============================] - 1s 1ms/step - loss: 808965543.8904 - mean_squared_logarithmic_error: 0.0112\n",
      "Epoch 93/100\n",
      "1168/1168 [==============================] - 1s 1ms/step - loss: 833953070.4658 - mean_squared_logarithmic_error: 0.0120\n",
      "Epoch 94/100\n",
      "1168/1168 [==============================] - 1s 1ms/step - loss: 795492178.4110 - mean_squared_logarithmic_error: 0.0110\n",
      "Epoch 95/100\n",
      "1168/1168 [==============================] - 2s 1ms/step - loss: 810472863.5616 - mean_squared_logarithmic_error: 0.0116\n",
      "Epoch 96/100\n",
      "1168/1168 [==============================] - 2s 1ms/step - loss: 811066612.1644 - mean_squared_logarithmic_error: 0.0114\n",
      "Epoch 97/100\n",
      "1168/1168 [==============================] - 2s 1ms/step - loss: 812432046.9041 - mean_squared_logarithmic_error: 0.0117\n",
      "Epoch 98/100\n",
      "1168/1168 [==============================] - 1s 1ms/step - loss: 828973604.3836 - mean_squared_logarithmic_error: 0.0116\n",
      "Epoch 99/100\n",
      "1168/1168 [==============================] - 1s 1ms/step - loss: 831271296.8767 - mean_squared_logarithmic_error: 0.0124\n",
      "Epoch 100/100\n",
      "1168/1168 [==============================] - 1s 1ms/step - loss: 823331965.3699 - mean_squared_logarithmic_error: 0.0116\n"
     ]
    },
    {
     "data": {
      "text/plain": [
       "<keras.callbacks.History at 0x7f5d0467b6d8>"
      ]
     },
     "execution_count": 112,
     "metadata": {},
     "output_type": "execute_result"
    }
   ],
   "source": [
    "kreg = 3000.0\n",
    "#kreg = 0\n",
    "learning_rate = 0.1\n",
    "model = Sequential()\n",
    "model.add(Dense(units=90, activation='relu', input_dim=X_train.shape[1], kernel_regularizer=l2(kreg)))\n",
    "model.add(Dense(units=1, activation=None, kernel_regularizer=l2(kreg)))\n",
    "\n",
    "model.compile(loss='mean_squared_error',\n",
    "              optimizer=Adam(learning_rate),\n",
    "              metrics=['mean_squared_logarithmic_error'])\n",
    "\n",
    "model.fit(X_train, y_train, epochs=100, batch_size=16)"
   ]
  },
  {
   "cell_type": "code",
   "execution_count": 113,
   "metadata": {
    "scrolled": true
   },
   "outputs": [
    {
     "name": "stdout",
     "output_type": "stream",
     "text": [
      "1168/1168 [==============================] - 1s 873us/step\n",
      "292/292 [==============================] - 0s 728us/step\n",
      "27340.354735099834 34709.56251169733\n",
      "0.09812239613927509 0.1334844720243187\n"
     ]
    }
   ],
   "source": [
    "train_loss, train_msle = model.evaluate(X_train, y_train)\n",
    "test_loss, test_msle = model.evaluate(X_test, y_test)\n",
    "print(np.sqrt(train_loss), np.sqrt(test_loss))\n",
    "print(np.sqrt(train_msle), np.sqrt(test_msle))\n",
    "# Current best is 0.14\n",
    "\n",
    "# No reg\n",
    "# 5153.652146570697 37264.89209303301\n",
    "# 0.02738456283225992 0.2730824166735976\n",
    "\n",
    "# 3000 kreg\n",
    "# 27340.354735099834 34709.56251169733\n",
    "# 0.09812239613927509 0.1334844720243187\n"
   ]
  },
  {
   "cell_type": "code",
   "execution_count": 114,
   "metadata": {},
   "outputs": [],
   "source": [
    "df_test_orig = pd.read_csv(\"test.csv\")\n",
    "df_test = df_test_orig.drop(columns=[\"MiscFeature\", \"Fence\", \"PoolQC\", \"Alley\", \"Id\"])\n",
    "fill_nulls(df_test, mean, mode)\n",
    "df_test = encode_categorical_features(df_test, onehot)\n",
    "df_test = standardize_numerical_features(df_test)\n",
    "predictions = model.predict(df_test)\n",
    "predictions = np.squeeze(predictions)\n",
    "df_submit = pd.DataFrame({'Id': df_test_orig.Id, 'SalePrice': predictions})\n",
    "df_submit.to_csv('submission.csv', index=False)"
   ]
  },
  {
   "cell_type": "code",
   "execution_count": null,
   "metadata": {},
   "outputs": [],
   "source": []
  }
 ],
 "metadata": {
  "kernelspec": {
   "display_name": "Python 3",
   "language": "python",
   "name": "python3"
  },
  "language_info": {
   "codemirror_mode": {
    "name": "ipython",
    "version": 3
   },
   "file_extension": ".py",
   "mimetype": "text/x-python",
   "name": "python",
   "nbconvert_exporter": "python",
   "pygments_lexer": "ipython3",
   "version": "3.6.8"
  }
 },
 "nbformat": 4,
 "nbformat_minor": 2
}
