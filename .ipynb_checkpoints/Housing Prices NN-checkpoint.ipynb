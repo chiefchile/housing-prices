{
 "cells": [
  {
   "cell_type": "code",
   "execution_count": 1,
   "metadata": {},
   "outputs": [
    {
     "name": "stderr",
     "output_type": "stream",
     "text": [
      "Using TensorFlow backend.\n"
     ]
    }
   ],
   "source": [
    "import pandas as pd\n",
    "from sklearn.preprocessing import OneHotEncoder\n",
    "from sklearn.preprocessing import StandardScaler\n",
    "from sklearn.model_selection import train_test_split\n",
    "from keras.models import Sequential\n",
    "from keras.layers import Dense, Dropout\n",
    "from keras.regularizers import l2\n",
    "from keras.optimizers import Adam\n",
    "from keras.callbacks import EarlyStopping"
   ]
  },
  {
   "cell_type": "code",
   "execution_count": 2,
   "metadata": {},
   "outputs": [],
   "source": [
    "import numpy as np\n",
    "import tensorflow as tf\n",
    "import random as rn\n",
    "\n",
    "# The below is necessary for starting Numpy generated random numbers\n",
    "# in a well-defined initial state.\n",
    "\n",
    "np.random.seed(42)\n",
    "\n",
    "# The below is necessary for starting core Python generated random numbers\n",
    "# in a well-defined state.\n",
    "\n",
    "rn.seed(12345)\n",
    "\n",
    "# Force TensorFlow to use single thread.\n",
    "# Multiple threads are a potential source of non-reproducible results.\n",
    "# For further details, see: https://stackoverflow.com/questions/42022950/\n",
    "\n",
    "session_conf = tf.ConfigProto(intra_op_parallelism_threads=1,\n",
    "                              inter_op_parallelism_threads=1)\n",
    "\n",
    "from keras import backend as K\n",
    "\n",
    "# The below tf.set_random_seed() will make random number generation\n",
    "# in the TensorFlow backend have a well-defined initial state.\n",
    "# For further details, see:\n",
    "# https://www.tensorflow.org/api_docs/python/tf/set_random_seed\n",
    "\n",
    "tf.set_random_seed(1234)\n",
    "\n",
    "sess = tf.Session(graph=tf.get_default_graph(), config=session_conf)\n",
    "K.set_session(sess)"
   ]
  },
  {
   "cell_type": "code",
   "execution_count": 3,
   "metadata": {},
   "outputs": [
    {
     "name": "stdout",
     "output_type": "stream",
     "text": [
      "(1460, 81)\n",
      "Null Counts:\n",
      "LotFrontage      259\n",
      "Alley           1369\n",
      "MasVnrType         8\n",
      "MasVnrArea         8\n",
      "BsmtQual          37\n",
      "BsmtCond          37\n",
      "BsmtExposure      38\n",
      "BsmtFinType1      37\n",
      "BsmtFinType2      38\n",
      "Electrical         1\n",
      "FireplaceQu      690\n",
      "GarageType        81\n",
      "GarageYrBlt       81\n",
      "GarageFinish      81\n",
      "GarageQual        81\n",
      "GarageCond        81\n",
      "PoolQC          1453\n",
      "Fence           1179\n",
      "MiscFeature     1406\n",
      "dtype: int64\n"
     ]
    }
   ],
   "source": [
    "df_orig = pd.read_csv(\"train.csv\")\n",
    "print(df_orig.shape)\n",
    "print(\"Null Counts:\")\n",
    "print(df_orig.isnull().sum()[df_orig.isnull().sum() > 0])"
   ]
  },
  {
   "cell_type": "code",
   "execution_count": 4,
   "metadata": {},
   "outputs": [
    {
     "name": "stdout",
     "output_type": "stream",
     "text": [
      "(1460, 75)\n"
     ]
    }
   ],
   "source": [
    "df = df_orig.drop(columns=[\"MiscFeature\", \"Fence\", \"PoolQC\", \"Alley\", \"Id\", \"SalePrice\"])\n",
    "print(df.shape)"
   ]
  },
  {
   "cell_type": "code",
   "execution_count": 5,
   "metadata": {},
   "outputs": [
    {
     "name": "stdout",
     "output_type": "stream",
     "text": [
      "Series([], dtype: int64)\n"
     ]
    }
   ],
   "source": [
    "def fill_nulls(df, mean, mode):\n",
    "    df.fillna(mean, inplace=True)\n",
    "    df.fillna(mode, inplace=True)\n",
    "\n",
    "mean = df.mean()\n",
    "mode = df.mode().iloc[0]\n",
    "fill_nulls(df, mean, mode)\n",
    "print(df.isnull().sum()[df.isnull().sum() > 0])"
   ]
  },
  {
   "cell_type": "code",
   "execution_count": 6,
   "metadata": {},
   "outputs": [
    {
     "name": "stdout",
     "output_type": "stream",
     "text": [
      "(1460, 203)\n"
     ]
    }
   ],
   "source": [
    "def encode_categorical_features(df, enc):\n",
    "    # Flatten enc.categories_ which is a list of np.array\n",
    "    cat_list = np.concatenate(enc.categories_).ravel()\n",
    "    df[cat_list] = pd.DataFrame(enc.transform(df[categorical_features]).toarray(), index=df.index)\n",
    "    df = df.drop(columns=categorical_features)\n",
    "    return df\n",
    "\n",
    "categorical_features = df.select_dtypes(exclude=[np.number]).columns\n",
    "onehot = OneHotEncoder(handle_unknown='ignore')\n",
    "onehot.fit(df[categorical_features])\n",
    "df = encode_categorical_features(df, onehot)\n",
    "print(df.shape)"
   ]
  },
  {
   "cell_type": "code",
   "execution_count": 7,
   "metadata": {},
   "outputs": [],
   "source": [
    "def standardize_numerical_features(df):\n",
    "    numerical_features = df.select_dtypes(include=[np.number]).columns\n",
    "    scaler = StandardScaler()\n",
    "    df[numerical_features] = scaler.fit_transform(df[numerical_features])\n",
    "    return df\n",
    "\n",
    "df = standardize_numerical_features(df)"
   ]
  },
  {
   "cell_type": "code",
   "execution_count": 42,
   "metadata": {},
   "outputs": [
    {
     "name": "stdout",
     "output_type": "stream",
     "text": [
      "(1314, 203) (1314,)\n",
      "(146, 203) (146,)\n"
     ]
    }
   ],
   "source": [
    "X = df\n",
    "y = df_orig.SalePrice\n",
    "X_train, X_test, y_train, y_test = train_test_split(X, y, test_size=0.1, random_state=42)\n",
    "print(X_train.shape, y_train.shape)\n",
    "print(X_test.shape, y_test.shape)"
   ]
  },
  {
   "cell_type": "code",
   "execution_count": 51,
   "metadata": {
    "scrolled": true
   },
   "outputs": [
    {
     "name": "stdout",
     "output_type": "stream",
     "text": [
      "Epoch 1/100\n",
      "1314/1314 [==============================] - 7s 5ms/step - loss: 11002636197.4064 - mean_squared_logarithmic_error: 7.2647\n",
      "Epoch 2/100\n",
      "1314/1314 [==============================] - 3s 2ms/step - loss: 3396832596.5540 - mean_squared_logarithmic_error: 0.2103\n",
      "Epoch 3/100\n",
      "1314/1314 [==============================] - 3s 2ms/step - loss: 2301179785.9361 - mean_squared_logarithmic_error: 0.0485\n",
      "Epoch 4/100\n",
      "1314/1314 [==============================] - 3s 2ms/step - loss: 2458933639.5982 - mean_squared_logarithmic_error: 0.0453\n",
      "Epoch 5/100\n",
      "1314/1314 [==============================] - 3s 2ms/step - loss: 2138186729.9848 - mean_squared_logarithmic_error: 0.0456\n",
      "Epoch 6/100\n",
      "1314/1314 [==============================] - 3s 3ms/step - loss: 1913936643.7017 - mean_squared_logarithmic_error: 0.0358\n",
      "Epoch 7/100\n",
      "1314/1314 [==============================] - 3s 3ms/step - loss: 2416912276.2618 - mean_squared_logarithmic_error: 0.0490A: 0s - loss: 2569263902.3729 - mean_squared_logarithm\n",
      "Epoch 8/100\n",
      "1314/1314 [==============================] - 3s 2ms/step - loss: 1786981177.9604 - mean_squared_logarithmic_error: 0.0379\n",
      "Epoch 9/100\n",
      "1314/1314 [==============================] - 3s 2ms/step - loss: 1427281445.0167 - mean_squared_logarithmic_error: 0.0294\n",
      "Epoch 10/100\n",
      "1314/1314 [==============================] - ETA: 0s - loss: 1571724440.9756 - mean_squared_logarithmic_error: 0.031 - 3s 2ms/step - loss: 1571276405.8691 - mean_squared_logarithmic_error: 0.0313\n",
      "Epoch 11/100\n",
      "1314/1314 [==============================] - 3s 3ms/step - loss: 1680075355.9574 - mean_squared_logarithmic_error: 0.0309\n",
      "Epoch 12/100\n",
      "1314/1314 [==============================] - 3s 2ms/step - loss: 2003890766.7093 - mean_squared_logarithmic_error: 0.0394A: 2s - loss: 2871531030.5882 -\n",
      "Epoch 13/100\n",
      "1314/1314 [==============================] - 3s 3ms/step - loss: 1779037745.8752 - mean_squared_logarithmic_error: 0.0329\n",
      "Epoch 14/100\n",
      "1314/1314 [==============================] - 4s 3ms/step - loss: 1425362951.0137 - mean_squared_logarithmic_error: 0.0293\n",
      "Epoch 15/100\n",
      "1314/1314 [==============================] - 3s 2ms/step - loss: 1434418917.5038 - mean_squared_logarithmic_error: 0.0311\n",
      "Epoch 16/100\n",
      "1314/1314 [==============================] - 3s 2ms/step - loss: 1290429595.8600 - mean_squared_logarithmic_error: 0.0217A: 0s - loss: 1320434907.7333 - mean_squared_logarithmi\n",
      "Epoch 17/100\n",
      "1314/1314 [==============================] - 4s 3ms/step - loss: 1266104821.0898 - mean_squared_logarithmic_error: 0.0249\n",
      "Epoch 18/100\n",
      "1314/1314 [==============================] - 3s 2ms/step - loss: 1268312350.0030 - mean_squared_logarithmic_error: 0.0232\n",
      "Epoch 19/100\n",
      "1314/1314 [==============================] - 3s 2ms/step - loss: 1631503161.2785 - mean_squared_logarithmic_error: 0.0336\n",
      "Epoch 20/100\n",
      "1314/1314 [==============================] - 4s 3ms/step - loss: 1430056381.4673 - mean_squared_logarithmic_error: 0.0293\n",
      "Epoch 21/100\n",
      "1314/1314 [==============================] - 4s 3ms/step - loss: 1218552366.4658 - mean_squared_logarithmic_error: 0.0237A: 0s - loss: 1225726144.0000 - mean_squared_logarithmic_e\n",
      "Epoch 22/100\n",
      "1314/1314 [==============================] - 4s 3ms/step - loss: 1223709588.1644 - mean_squared_logarithmic_error: 0.0259A: 1s - loss: 1148104150.9744 - mean_squared_logarithmic_error - ETA: 1s - loss: 1182981650.2857 - mean_squared_\n",
      "Epoch 23/100\n",
      "1314/1314 [==============================] - 4s 3ms/step - loss: 1402044761.6195 - mean_squared_logarithmic_error: 0.0325A: 2s - loss: 12702\n",
      "Epoch 24/100\n",
      "1314/1314 [==============================] - 3s 2ms/step - loss: 1281636095.3181 - mean_squared_logarithmic_error: 0.0266\n",
      "Epoch 25/100\n",
      "1314/1314 [==============================] - 4s 3ms/step - loss: 1249281522.4597 - mean_squared_logarithmic_error: 0.0257\n",
      "Epoch 26/100\n",
      "1314/1314 [==============================] - 4s 3ms/step - loss: 1107818286.1735 - mean_squared_logarithmic_error: 0.0226A: 0s - loss: 1125941536.4638 - mean_squared_logarithmic_error\n",
      "Epoch 27/100\n",
      "1314/1314 [==============================] - 3s 2ms/step - loss: 1046217206.5510 - mean_squared_logarithmic_error: 0.0198\n",
      "Epoch 28/100\n",
      "1314/1314 [==============================] - 3s 2ms/step - loss: 1094163541.0898 - mean_squared_logarithmic_error: 0.0234\n",
      "Epoch 29/100\n",
      "1314/1314 [==============================] - 3s 2ms/step - loss: 1002485122.8250 - mean_squared_logarithmic_error: 0.0194\n",
      "Epoch 30/100\n",
      "1314/1314 [==============================] - 3s 2ms/step - loss: 991855150.8554 - mean_squared_logarithmic_error: 0.0189: 1s - loss: 931084069.5652 - \n",
      "Epoch 31/100\n",
      "1314/1314 [==============================] - 4s 3ms/step - loss: 1055890433.5586 - mean_squared_logarithmic_error: 0.0203\n",
      "Epoch 32/100\n",
      "1314/1314 [==============================] - 3s 3ms/step - loss: 1230060971.1537 - mean_squared_logarithmic_error: 0.0274\n",
      "Epoch 33/100\n",
      "1314/1314 [==============================] - 3s 2ms/step - loss: 1076388703.7078 - mean_squared_logarithmic_error: 0.0208\n",
      "Epoch 34/100\n",
      "1314/1314 [==============================] - 3s 3ms/step - loss: 1047480553.2055 - mean_squared_logarithmic_error: 0.0205\n",
      "Epoch 35/100\n",
      "1314/1314 [==============================] - 3s 3ms/step - loss: 1093316975.7808 - mean_squared_logarithmic_error: 0.0238A: 3s - loss: 1036432118.8571 - mean_squared_logarithmic_error: - ETA: 2s - loss: 1046533927.6190 - mean_squar - ETA: 0s - loss: 1018384851.2000 - mean_squared_logarithmic_error: 0 - ETA: 0s - loss: 1034894468.7059 - mean_squared_logarithmic_err\n",
      "Epoch 36/100\n",
      "1314/1314 [==============================] - 3s 2ms/step - loss: 1015619554.7763 - mean_squared_logarithmic_error: 0.0194A: 0s - loss: 1032469226.2222 - mean_squared_logarithmic_error:\n",
      "Epoch 37/100\n",
      "1314/1314 [==============================] - 3s 2ms/step - loss: 967001035.1050 - mean_squared_logarithmic_error: 0.0192\n",
      "Epoch 38/100\n",
      "1314/1314 [==============================] - 4s 3ms/step - loss: 1073548698.6910 - mean_squared_logarithmic_error: 0.0209\n",
      "Epoch 39/100\n",
      "1314/1314 [==============================] - 4s 3ms/step - loss: 1050528122.8371 - mean_squared_logarithmic_error: 0.0196\n",
      "Epoch 40/100\n",
      "1314/1314 [==============================] - 3s 3ms/step - loss: 936134599.1598 - mean_squared_logarithmic_error: 0.0168\n",
      "Epoch 41/100\n",
      "1314/1314 [==============================] - 3s 2ms/step - loss: 935193544.5236 - mean_squared_logarithmic_error: 0.0170\n",
      "Epoch 42/100\n",
      "1314/1314 [==============================] - 3s 2ms/step - loss: 882120286.3927 - mean_squared_logarithmic_error: 0.0156: 1s - loss: 813053474.0000 - mean_squared_logarithmic_error: 0. - ETA: 1s - loss: 818777717.3333 - mean_squared - ETA: 0s - loss: 857175324.2034 - mean_squar\n",
      "Epoch 43/100\n",
      "1314/1314 [==============================] - 3s 2ms/step - loss: 896802916.9193 - mean_squared_logarithmic_error: 0.0171\n",
      "Epoch 44/100\n",
      "1314/1314 [==============================] - 3s 2ms/step - loss: 928939573.5769 - mean_squared_logarithmic_error: 0.0167TA: 2s - loss\n",
      "Epoch 45/100\n",
      "1314/1314 [==============================] - 3s 2ms/step - loss: 942391528.8158 - mean_squared_logarithmic_error: 0.0184\n",
      "Epoch 46/100\n",
      "1314/1314 [==============================] - 4s 3ms/step - loss: 1045649305.7169 - mean_squared_logarithmic_error: 0.0221\n",
      "Epoch 47/100\n",
      "1314/1314 [==============================] - 3s 3ms/step - loss: 969336967.9878 - mean_squared_logarithmic_error: 0.0189\n",
      "Epoch 48/100\n",
      "1314/1314 [==============================] - 3s 2ms/step - loss: 919560674.3866 - mean_squared_logarithmic_error: 0.0170\n",
      "Epoch 49/100\n",
      "1314/1314 [==============================] - 3s 3ms/step - loss: 1049257194.9589 - mean_squared_logarithmic_error: 0.0225\n",
      "Epoch 50/100\n",
      "1314/1314 [==============================] - 3s 2ms/step - loss: 985028902.2831 - mean_squared_logarithmic_error: 0.0204\n",
      "Epoch 51/100\n",
      "1314/1314 [==============================] - 3s 2ms/step - loss: 885413170.6545 - mean_squared_logarithmic_error: 0.0150\n",
      "Epoch 52/100\n",
      "1314/1314 [==============================] - 3s 3ms/step - loss: 888115162.1065 - mean_squared_logarithmic_error: 0.0170\n",
      "Epoch 53/100\n",
      "1314/1314 [==============================] - 3s 3ms/step - loss: 958256702.1492 - mean_squared_logarithmic_error: 0.0190\n",
      "Epoch 54/100\n"
     ]
    },
    {
     "name": "stdout",
     "output_type": "stream",
     "text": [
      "1314/1314 [==============================] - 3s 2ms/step - loss: 940129523.0441 - mean_squared_logarithmic_error: 0.0182\n",
      "Epoch 55/100\n",
      "1314/1314 [==============================] - 3s 2ms/step - loss: 845977141.9665 - mean_squared_logarithmic_error: 0.0152\n",
      "Epoch 56/100\n",
      "1314/1314 [==============================] - 3s 2ms/step - loss: 1013118383.7321 - mean_squared_logarithmic_error: 0.0193A: 1s - loss: 1034946542.6667 - mean_squared_logari\n",
      "Epoch 57/100\n",
      "1314/1314 [==============================] - 3s 3ms/step - loss: 905683254.1613 - mean_squared_logarithmic_error: 0.0154\n",
      "Epoch 58/100\n",
      "1314/1314 [==============================] - 3s 3ms/step - loss: 830567906.2892 - mean_squared_logarithmic_error: 0.0154\n",
      "Epoch 59/100\n",
      "1314/1314 [==============================] - ETA: 0s - loss: 843508103.1111 - mean_squared_logarithmic_error: 0.01 - 3s 3ms/step - loss: 842823902.8798 - mean_squared_logarithmic_error: 0.0158\n",
      "Epoch 60/100\n",
      "1314/1314 [==============================] - 3s 2ms/step - loss: 917199850.1796 - mean_squared_logarithmic_error: 0.0178\n",
      "Epoch 61/100\n",
      "1314/1314 [==============================] - 4s 3ms/step - loss: 880959604.3105 - mean_squared_logarithmic_error: 0.0158\n",
      "Epoch 62/100\n",
      "1314/1314 [==============================] - 4s 3ms/step - loss: 860480608.3409 - mean_squared_logarithmic_error: 0.0160\n",
      "Epoch 63/100\n",
      "1314/1314 [==============================] - 3s 2ms/step - loss: 830173265.7291 - mean_squared_logarithmic_error: 0.0152: 0s - loss: 834113904.2192 - mean_squared_logarithm\n",
      "Epoch 64/100\n",
      "1314/1314 [==============================] - 3s 3ms/step - loss: 880353096.9619 - mean_squared_logarithmic_error: 0.0168: 0s - loss: 896084902.6667 - mean_squared_logarithmic\n",
      "Epoch 65/100\n",
      "1314/1314 [==============================] - 3s 3ms/step - loss: 846629165.1020 - mean_squared_logarithmic_error: 0.0171\n",
      "Epoch 66/100\n",
      "1314/1314 [==============================] - 3s 2ms/step - loss: 872950760.2314 - mean_squared_logarithmic_error: 0.0158\n",
      "Epoch 67/100\n",
      "1314/1314 [==============================] - 3s 3ms/step - loss: 833742256.7062 - mean_squared_logarithmic_error: 0.0149: 1s - loss: 851623769.7391 \n",
      "Epoch 68/100\n",
      "1314/1314 [==============================] - 3s 3ms/step - loss: 777278778.4962 - mean_squared_logarithmic_error: 0.0141\n",
      "Epoch 69/100\n",
      "1314/1314 [==============================] - 3s 3ms/step - loss: 796515846.4292 - mean_squared_logarithmic_error: 0.0151\n",
      "Epoch 70/100\n",
      "1314/1314 [==============================] - 3s 2ms/step - loss: 823710352.0731 - mean_squared_logarithmic_error: 0.0166\n",
      "Epoch 71/100\n",
      "1314/1314 [==============================] - 3s 2ms/step - loss: 880165926.6728 - mean_squared_logarithmic_error: 0.0164\n",
      "Epoch 72/100\n",
      "1314/1314 [==============================] - 3s 3ms/step - loss: 849851016.0852 - mean_squared_logarithmic_error: 0.0169\n",
      "Epoch 73/100\n",
      "1314/1314 [==============================] - 4s 3ms/step - loss: 935844198.5753 - mean_squared_logarithmic_error: 0.1144: 1s - loss: 907387916.3\n",
      "Epoch 74/100\n",
      "1314/1314 [==============================] - 4s 3ms/step - loss: 813542937.3272 - mean_squared_logarithmic_error: 0.0171\n",
      "Epoch 75/100\n",
      "1314/1314 [==============================] - 3s 3ms/step - loss: 1332940078.7580 - mean_squared_logarithmic_error: 0.0302\n",
      "Epoch 76/100\n",
      "1314/1314 [==============================] - 3s 2ms/step - loss: 916735995.0807 - mean_squared_logarithmic_error: 0.0166: 1s\n",
      "Epoch 77/100\n",
      "1314/1314 [==============================] - 3s 2ms/step - loss: 858972931.6530 - mean_squared_logarithmic_error: 0.0154\n",
      "Epoch 78/100\n",
      "1314/1314 [==============================] - 3s 3ms/step - loss: 793255035.4216 - mean_squared_logarithmic_error: 0.0142\n",
      "Epoch 79/100\n",
      "1314/1314 [==============================] - 4s 3ms/step - loss: 777162849.5099 - mean_squared_logarithmic_error: 0.0135\n",
      "Epoch 80/100\n",
      "1314/1314 [==============================] - 4s 3ms/step - loss: 769376391.5008 - mean_squared_logarithmic_error: 0.0136: 0s - loss: 741195165.8378 - mean_squared_logarit\n",
      "Epoch 81/100\n",
      "1314/1314 [==============================] - 3s 2ms/step - loss: 756389721.3272 - mean_squared_logarithmic_error: 0.0134\n",
      "Epoch 82/100\n",
      "1314/1314 [==============================] - 3s 2ms/step - loss: 777829629.6621 - mean_squared_logarithmic_error: 0.0139\n",
      "Epoch 83/100\n",
      "1314/1314 [==============================] - 4s 3ms/step - loss: 786453612.9072 - mean_squared_logarithmic_error: 0.0146: 2s - loss: 782266048.0 - ETA: 0s - loss: 800778389.3333 - mean_squared_logarithmic_error: 0.01 - ETA: 0s - loss: 800046254.3448 \n",
      "Epoch 84/100\n",
      "1314/1314 [==============================] - 3s 2ms/step - loss: 804407278.7093 - mean_squared_logarithmic_error: 0.0146\n",
      "Epoch 85/100\n",
      "1314/1314 [==============================] - 3s 3ms/step - loss: 838894555.0807 - mean_squared_logarithmic_error: 0.0188\n",
      "Epoch 86/100\n",
      "1314/1314 [==============================] - ETA: 0s - loss: 822172220.0976 - mean_squared_logarithmic_error: 0.0209 ETA: 2s - - 3s 3ms/step - loss: 821466932.0183 - mean_squared_logarithmic_error: 0.0208\n",
      "Epoch 87/100\n",
      "1314/1314 [==============================] - 3s 2ms/step - loss: 770970083.4581 - mean_squared_logarithmic_error: 0.0138\n",
      "Epoch 88/100\n",
      "1314/1314 [==============================] - 3s 2ms/step - loss: 780990019.7991 - mean_squared_logarithmic_error: 0.0142\n",
      "Epoch 89/100\n",
      "1314/1314 [==============================] - 3s 3ms/step - loss: 1288348068.2374 - mean_squared_logarithmic_error: 0.0277\n",
      "Epoch 90/100\n",
      "1314/1314 [==============================] - 3s 2ms/step - loss: 923349967.0989 - mean_squared_logarithmic_error: 0.0185\n",
      "Epoch 91/100\n",
      "1314/1314 [==============================] - 3s 2ms/step - loss: 838434036.6027 - mean_squared_logarithmic_error: 0.0171\n",
      "Epoch 92/100\n",
      "1314/1314 [==============================] - 3s 2ms/step - loss: 773963078.4292 - mean_squared_logarithmic_error: 0.0141\n",
      "Epoch 93/100\n",
      "1314/1314 [==============================] - 4s 3ms/step - loss: 786063339.9330 - mean_squared_logarithmic_error: 0.0141: \n",
      "Epoch 94/100\n",
      "1314/1314 [==============================] - 3s 2ms/step - loss: 767038041.5221 - mean_squared_logarithmic_error: 0.0154\n",
      "Epoch 95/100\n",
      "1314/1314 [==============================] - 3s 2ms/step - loss: 759058874.6910 - mean_squared_logarithmic_error: 0.0146\n",
      "Epoch 96/100\n",
      "1314/1314 [==============================] - 3s 2ms/step - loss: 785580969.4003 - mean_squared_logarithmic_error: 0.0144\n",
      "Epoch 97/100\n",
      "1314/1314 [==============================] - 3s 3ms/step - loss: 780085205.5282 - mean_squared_logarithmic_error: 0.0145\n",
      "Epoch 98/100\n",
      "1314/1314 [==============================] - 3s 2ms/step - loss: 746279688.1826 - mean_squared_logarithmic_error: 0.0137\n",
      "Epoch 99/100\n",
      "1314/1314 [==============================] - 3s 2ms/step - loss: 729330972.4444 - mean_squared_logarithmic_error: 0.0123\n",
      "Epoch 100/100\n",
      "1314/1314 [==============================] - 3s 3ms/step - loss: 720843594.7154 - mean_squared_logarithmic_error: 0.0130: 0s - loss: 716861549.7778 - mean_squared_logarit\n"
     ]
    },
    {
     "data": {
      "text/plain": [
       "<keras.callbacks.History at 0x7fc008955be0>"
      ]
     },
     "execution_count": 51,
     "metadata": {},
     "output_type": "execute_result"
    }
   ],
   "source": [
    "reg = 0.1\n",
    "kreg = 10000.0\n",
    "model = Sequential()\n",
    "model.add(Dense(units=90, activation='relu', input_dim=X_train.shape[1], kernel_regularizer=l2(kreg)))\n",
    "#model.add(Dropout(reg))\n",
    "#model.add(Dense(units=90, activation='relu'))\n",
    "# model.add(Dropout(reg))\n",
    "#model.add(Dense(units=90, activation='relu'))\n",
    "# model.add(Dropout(reg))\n",
    "# model.add(Dense(units=90, activation='relu'))\n",
    "# model.add(Dropout(reg))\n",
    "# model.add(Dense(units=90, activation='relu'))\n",
    "# model.add(Dropout(reg))\n",
    "# model.add(Dense(units=90, activation='relu'))\n",
    "# model.add(Dropout(reg))\n",
    "# model.add(Dense(units=90, activation='relu'))\n",
    "# model.add(Dropout(reg))\n",
    "model.add(Dense(units=1, activation=None, kernel_regularizer=l2(kreg)))\n",
    "\n",
    "model.compile(loss='mean_squared_error',\n",
    "              optimizer=Adam(0.1),\n",
    "              metrics=['mean_squared_logarithmic_error'])\n",
    "\n",
    "model.fit(X_train, y_train, epochs=200, batch_size=16)"
   ]
  },
  {
   "cell_type": "code",
   "execution_count": 52,
   "metadata": {
    "scrolled": true
   },
   "outputs": [
    {
     "name": "stdout",
     "output_type": "stream",
     "text": [
      "1314/1314 [==============================] - 2s 2ms/step\n",
      "146/146 [==============================] - 0s 739us/step\n",
      "25384.630289379096 34648.679427680814\n",
      "0.10197781580761467 0.14853294426706393\n"
     ]
    }
   ],
   "source": [
    "train_loss, train_msle = model.evaluate(X_train, y_train)\n",
    "test_loss, test_msle = model.evaluate(X_test, y_test)\n",
    "print(np.sqrt(train_loss), np.sqrt(test_loss))\n",
    "print(np.sqrt(train_msle), np.sqrt(test_msle))\n",
    "# Current best is 0.14\n",
    "\n",
    "# No reg\n",
    "# 5153.652146570697 37264.89209303301\n",
    "# 0.02738456283225992 0.2730824166735976\n",
    "\n",
    "# 0.1 Dropout\n",
    "# 9237.206300457883 35590.03618316048\n",
    "# 0.04418546037015819 0.2115214128827394\n",
    "\n",
    "# 0.1 Dropout .2 test split\n",
    "# 9167.790059515022 33455.80715732241\n",
    "# 0.04495856600453306 0.1992055513045245\n",
    "\n",
    "# # 0.1 Dropout .1 test split\n",
    "# 10031.654561233698 26025.607890733154\n",
    "# 0.0490407746056158 0.20793296973375155\n",
    "\n",
    "# 0.1 DO .1 TS random_state=42\n",
    "# 8697.668314355573 31722.346238090824\n",
    "# 0.04483347051854697 0.1762138780849231\n",
    "\n",
    "# 10000 kreg\n",
    "# 36049.5586146419 42306.33210159457\n",
    "# 0.1220954378651295 0.1320486500045756"
   ]
  },
  {
   "cell_type": "code",
   "execution_count": 47,
   "metadata": {},
   "outputs": [
    {
     "name": "stdout",
     "output_type": "stream",
     "text": [
      "(1459,)\n"
     ]
    }
   ],
   "source": [
    "df_test_orig = pd.read_csv(\"test.csv\")\n",
    "df_test = df_test_orig.drop(columns=[\"MiscFeature\", \"Fence\", \"PoolQC\", \"Alley\", \"Id\"])\n",
    "fill_nulls(df_test, mean, mode)\n",
    "df_test = encode_categorical_features(df_test, onehot)\n",
    "df_test = standardize_numerical_features(df_test)\n",
    "predictions = model.predict(df_test)\n",
    "predictions = np.squeeze(predictions)\n",
    "print(predictions.shape)\n",
    "df_submit = pd.DataFrame({'Id': df_test_orig.Id, 'SalePrice': predictions})\n",
    "df_submit.to_csv('submission.csv', index=False)"
   ]
  },
  {
   "cell_type": "code",
   "execution_count": null,
   "metadata": {},
   "outputs": [],
   "source": []
  }
 ],
 "metadata": {
  "kernelspec": {
   "display_name": "Python 3",
   "language": "python",
   "name": "python3"
  },
  "language_info": {
   "codemirror_mode": {
    "name": "ipython",
    "version": 3
   },
   "file_extension": ".py",
   "mimetype": "text/x-python",
   "name": "python",
   "nbconvert_exporter": "python",
   "pygments_lexer": "ipython3",
   "version": "3.6.8"
  }
 },
 "nbformat": 4,
 "nbformat_minor": 2
}
