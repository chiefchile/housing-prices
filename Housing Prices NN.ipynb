{
 "cells": [
  {
   "cell_type": "code",
   "execution_count": 61,
   "metadata": {},
   "outputs": [],
   "source": [
    "import numpy as np\n",
    "import pandas as pd\n",
    "from sklearn.preprocessing import OneHotEncoder\n",
    "from sklearn.preprocessing import StandardScaler\n",
    "from sklearn.model_selection import train_test_split\n",
    "from keras.models import Sequential\n",
    "from keras.layers import Dense, Dropout\n",
    "from keras.regularizers import l2\n",
    "import tensorflow as tf\n",
    "import random"
   ]
  },
  {
   "cell_type": "code",
   "execution_count": 62,
   "metadata": {},
   "outputs": [],
   "source": [
    "random.seed(1)\n",
    "np.random.seed(1)\n",
    "tf.set_random_seed(1)"
   ]
  },
  {
   "cell_type": "code",
   "execution_count": 63,
   "metadata": {},
   "outputs": [
    {
     "name": "stdout",
     "output_type": "stream",
     "text": [
      "(1460, 81)\n",
      "Null Counts:\n",
      "LotFrontage      259\n",
      "Alley           1369\n",
      "MasVnrType         8\n",
      "MasVnrArea         8\n",
      "BsmtQual          37\n",
      "BsmtCond          37\n",
      "BsmtExposure      38\n",
      "BsmtFinType1      37\n",
      "BsmtFinType2      38\n",
      "Electrical         1\n",
      "FireplaceQu      690\n",
      "GarageType        81\n",
      "GarageYrBlt       81\n",
      "GarageFinish      81\n",
      "GarageQual        81\n",
      "GarageCond        81\n",
      "PoolQC          1453\n",
      "Fence           1179\n",
      "MiscFeature     1406\n",
      "dtype: int64\n"
     ]
    }
   ],
   "source": [
    "df_orig = pd.read_csv(\"train.csv\")\n",
    "print(df_orig.shape)\n",
    "print(\"Null Counts:\")\n",
    "print(df_orig.isnull().sum()[df_orig.isnull().sum() > 0])"
   ]
  },
  {
   "cell_type": "code",
   "execution_count": 64,
   "metadata": {},
   "outputs": [
    {
     "name": "stdout",
     "output_type": "stream",
     "text": [
      "(1460, 75)\n"
     ]
    }
   ],
   "source": [
    "df = df_orig.drop(columns=[\"MiscFeature\", \"Fence\", \"PoolQC\", \"Alley\", \"Id\", \"SalePrice\"])\n",
    "print(df.shape)"
   ]
  },
  {
   "cell_type": "code",
   "execution_count": 65,
   "metadata": {},
   "outputs": [
    {
     "name": "stdout",
     "output_type": "stream",
     "text": [
      "Series([], dtype: int64)\n"
     ]
    }
   ],
   "source": [
    "def fill_nulls(df, mean, mode):\n",
    "    df.fillna(mean, inplace=True)\n",
    "    df.fillna(mode, inplace=True)\n",
    "\n",
    "mean = df.mean()\n",
    "mode = df.mode().iloc[0]\n",
    "fill_nulls(df, mean, mode)\n",
    "print(df.isnull().sum()[df.isnull().sum() > 0])"
   ]
  },
  {
   "cell_type": "code",
   "execution_count": 66,
   "metadata": {},
   "outputs": [
    {
     "name": "stdout",
     "output_type": "stream",
     "text": [
      "(1460, 203)\n"
     ]
    }
   ],
   "source": [
    "def encode_categorical_features(df, enc):\n",
    "    # Flatten enc.categories_ which is a list of np.array\n",
    "    cat_list = np.concatenate(enc.categories_).ravel()\n",
    "    df[cat_list] = pd.DataFrame(enc.transform(df[categorical_features]).toarray(), index=df.index)\n",
    "    df = df.drop(columns=categorical_features)\n",
    "    return df\n",
    "\n",
    "categorical_features = df.select_dtypes(exclude=[np.number]).columns\n",
    "onehot = OneHotEncoder(handle_unknown='ignore')\n",
    "onehot.fit(df[categorical_features])\n",
    "df = encode_categorical_features(df, onehot)\n",
    "print(df.shape)"
   ]
  },
  {
   "cell_type": "code",
   "execution_count": 67,
   "metadata": {},
   "outputs": [],
   "source": [
    "def standardize_numerical_features(df):\n",
    "    numerical_features = df.select_dtypes(include=[np.number]).columns\n",
    "    scaler = StandardScaler()\n",
    "    df[numerical_features] = scaler.fit_transform(df[numerical_features])\n",
    "    return df\n",
    "\n",
    "df = standardize_numerical_features(df)"
   ]
  },
  {
   "cell_type": "code",
   "execution_count": 68,
   "metadata": {},
   "outputs": [
    {
     "name": "stdout",
     "output_type": "stream",
     "text": [
      "(1095, 203) (1095,)\n",
      "(365, 203) (365,)\n"
     ]
    }
   ],
   "source": [
    "X = df\n",
    "y = df_orig.SalePrice\n",
    "X_train, X_test, y_train, y_test = train_test_split(X, y, test_size=0.25, random_state=42)\n",
    "print(X_train.shape, y_train.shape)\n",
    "print(X_test.shape, y_test.shape)"
   ]
  },
  {
   "cell_type": "code",
   "execution_count": 73,
   "metadata": {},
   "outputs": [
    {
     "name": "stdout",
     "output_type": "stream",
     "text": [
      "Epoch 1/5\n",
      "1095/1095 [==============================] - 8s 8ms/step - loss: 39085744565.6548 - mean_squared_logarithmic_error: 100.2406\n",
      "Epoch 2/5\n",
      "1095/1095 [==============================] - 3s 3ms/step - loss: 39006994544.2192 - mean_squared_logarithmic_error: 55.0804A: 1s - loss: 38224221739.8857 - mean_squared_logarithmic_error: 6 - ETA: 1s - loss: 38476851549.6585 - mean_squared_logarithmic_error - ETA: 0s - loss: 38576588470.8571 - mean_squared_logarithmic_error: \n",
      "Epoch 3/5\n",
      "1095/1095 [==============================] - 3s 3ms/step - loss: 38588457685.6840 - mean_squared_logarithmic_error: 33.8245\n",
      "Epoch 4/5\n",
      "1095/1095 [==============================] - 3s 3ms/step - loss: 37475745083.1489 - mean_squared_logarithmic_error: 22.1492A: 0s - loss: 37904012526.9333 - mean_squared_logarithmic_error\n",
      "Epoch 5/5\n",
      "1095/1095 [==============================] - 3s 2ms/step - loss: 35397301538.8347 - mean_squared_logarithmic_error: 15.2808A: 1s - loss: 37418702108.4444 - mean_squared_logarithmic_error: 16. - ETA: 0s - loss: 36921576401.4545 - mean_squared_logarithm\n",
      "1095/1095 [==============================] - 3s 3ms/step\n",
      "365/365 [==============================] - 0s 890us/step\n",
      "3.5632377710728487 3.8069319682324965\n"
     ]
    }
   ],
   "source": [
    "reg = 0.01\n",
    "model = Sequential()\n",
    "model.add(Dense(units=90, activation='relu', input_dim=X_train.shape[1]))\n",
    "#model.add(Dropout(0.1))\n",
    "model.add(Dense(units=90, activation='relu'))\n",
    "#model.add(Dropout(0.1))\n",
    "model.add(Dense(units=1, activation=None))\n",
    "\n",
    "model.compile(loss='mean_squared_error',\n",
    "              optimizer='Adam',\n",
    "              metrics=['mean_squared_logarithmic_error'])\n",
    "\n",
    "model.fit(X_train, y_train, epochs=5, batch_size=16)\n",
    "train_loss, train_msle = model.evaluate(X_train, y_train)\n",
    "test_loss, test_msle = model.evaluate(X_test, y_test)\n",
    "print(np.sqrt(train_msle), np.sqrt(test_msle))\n",
    "# Current best is 0.14"
   ]
  },
  {
   "cell_type": "code",
   "execution_count": null,
   "metadata": {},
   "outputs": [],
   "source": [
    "df_test_orig = pd.read_csv(\"test.csv\")\n",
    "df_test = df_test_orig.drop(columns=[\"MiscFeature\", \"Fence\", \"PoolQC\", \"Alley\", \"Id\"])\n",
    "fill_nulls(df_test, mean, mode)\n",
    "df_test = encode_categorical_features(df_test, onehot)\n",
    "df_test = standardize_numerical_features(df_test)\n",
    "predictions = model.predict(df_test)\n",
    "predictions = np.squeeze(predictions)\n",
    "print(predictions.shape)\n",
    "df_submit = pd.DataFrame({'Id': df_test_orig.Id, 'SalePrice': predictions})\n",
    "df_submit.to_csv('submission.csv', index=False)"
   ]
  },
  {
   "cell_type": "code",
   "execution_count": null,
   "metadata": {},
   "outputs": [],
   "source": []
  }
 ],
 "metadata": {
  "kernelspec": {
   "display_name": "Python 3",
   "language": "python",
   "name": "python3"
  },
  "language_info": {
   "codemirror_mode": {
    "name": "ipython",
    "version": 3
   },
   "file_extension": ".py",
   "mimetype": "text/x-python",
   "name": "python",
   "nbconvert_exporter": "python",
   "pygments_lexer": "ipython3",
   "version": "3.6.8"
  }
 },
 "nbformat": 4,
 "nbformat_minor": 2
}
